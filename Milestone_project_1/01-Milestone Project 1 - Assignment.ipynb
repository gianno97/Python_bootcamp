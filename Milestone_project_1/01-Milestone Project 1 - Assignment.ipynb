{
 "cells": [
  {
   "cell_type": "markdown",
   "metadata": {},
   "source": [
    "# Milestone Project 1\n",
    "## Congratulations on making it to your first milestone!\n",
    "You've already learned a ton and are ready to work on a real project.\n",
    "\n",
    "Your assignment: Create a Tic Tac Toe game. You are free to use any IDE you like.\n",
    "\n",
    "Here are the requirements:\n",
    "\n",
    "* 2 players should be able to play the game (both sitting at the same computer)\n",
    "* The board should be printed out every time a player makes a move\n",
    "* You should be able to accept input of the player position and then place a symbol on the board\n",
    "\n",
    "Feel free to use Google to help you figure anything out (but don't just Google \"Tic Tac Toe in Python\" otherwise you won't learn anything!) Keep in mind that this project can take anywhere between several hours to several days.\n",
    "\n",
    "There are 4 Jupyter Notebooks related to this assignment:\n",
    "\n",
    "* This Assignment Notebook\n",
    "* A \"Walkthrough Steps Workbook\" Notebook\n",
    "* A \"Complete Walkthrough Solution\" Notebook\n",
    "* An \"Advanced Solution\" Notebook\n",
    "\n",
    "I encourage you to just try to start the project on your own without referencing any of the notebooks. If you get stuck, check out the next lecture which is a text lecture with helpful hints and steps. If you're still stuck after that, then check out the Walkthrough Steps Workbook, which breaks up the project in steps for you to solve. Still stuck? Then check out the Complete Walkthrough Solution video for more help on approaching the project!"
   ]
  },
  {
   "cell_type": "markdown",
   "metadata": {},
   "source": [
    "There are parts of this that will be a struggle...and that is good! I have complete faith that if you have made it this far through the course you have all the tools and knowledge to tackle this project. Remember, it's totally open book, so take your time, do a little research, and remember:\n",
    "\n",
    "## HAVE FUN!"
   ]
  },
  {
   "cell_type": "code",
   "execution_count": 1,
   "metadata": {},
   "outputs": [],
   "source": [
    "from IPython.display import clear_output\n",
    "clear_output()\n",
    "\n",
    "symbol_list = [\"\", \"\", \"\", \"\", \"\", \"\", \"\", \"\", \"\"]\n",
    "position_list = [\"1\", \"2\", \"3\", \"4\", \"5\", \"6\", \"7\", \"8\", \"9\"]"
   ]
  },
  {
   "cell_type": "code",
   "execution_count": 2,
   "metadata": {},
   "outputs": [],
   "source": [
    "def board():\n",
    "    print(\"{:>4}{:>4}\".format(\"|\", \"|\"))\n",
    "    print(\"{:>2}{:>2}{:>2}{:>2}{:>2}\".format(symbol_list[0], \"|\", symbol_list[1], \"|\", symbol_list[2]))\n",
    "    print(\"{:>4}{:>4}\".format(\"|\", \"|\"))\n",
    "    print(\"-----------\")\n",
    "    print(\"{:>4}{:>4}\".format(\"|\", \"|\"))\n",
    "    print(\"{:>2}{:>2}{:>2}{:>2}{:>2}\".format(symbol_list[3], \"|\", symbol_list[4], \"|\", symbol_list[5]))\n",
    "    print(\"{:>4}{:>4}\".format(\"|\", \"|\"))\n",
    "    print(\"-----------\")\n",
    "    print(\"{:>4}{:>4}\".format(\"|\", \"|\"))\n",
    "    print(\"{:>2}{:>2}{:>2}{:>2}{:>2}\".format(symbol_list[6], \"|\", symbol_list[7], \"|\", symbol_list[8]))\n",
    "    print(\"{:>4}{:>4}\".format(\"|\", \"|\"))"
   ]
  },
  {
   "cell_type": "code",
   "execution_count": 3,
   "metadata": {},
   "outputs": [],
   "source": [
    "def game_choice():\n",
    "    choice = \"wrong\"\n",
    "    start_game = \"wrong\"\n",
    "    \n",
    "    print(\"Welcome to Tic Tac Toe!\")\n",
    "    \n",
    "    while choice not in [\"X\", \"O\"]:\n",
    "        choice = input(\"Player 1: Do you want to be X or O?\")\n",
    "        \n",
    "        if choice not in [\"X\", \"O\"]:\n",
    "            clear_output()\n",
    "            print(\"The value isn't valid\")\n",
    "            clear_output()\n",
    "    \n",
    "    if choice == \"X\":\n",
    "        print(\"Player1 will go first.\")\n",
    "    else:\n",
    "        print(\"Player2 will go first\")\n",
    "        \n",
    "    while start_game != \"Yes\":\n",
    "        start_game = input(\"Are you ready to play? Enter Yes or No.\")\n",
    "        \n",
    "        if start_game == \"No\":\n",
    "            clear_output()\n",
    "            print(\"The game doesn't start while you don't enter Yes\")\n",
    "            clear_output()\n",
    "    \n",
    "    clear_output\n",
    "    return choice\n",
    "        "
   ]
  },
  {
   "cell_type": "code",
   "execution_count": 4,
   "metadata": {},
   "outputs": [],
   "source": [
    "def game_position(choice):\n",
    "    position = \"wrong\"\n",
    "    count = 0\n",
    "    game = True\n",
    "    board()\n",
    "    \n",
    "    while position not in position_list and game == True:\n",
    "        position = input(\"Choose your next position: (1-9)\\n\")\n",
    "        \n",
    "        if position not in position_list:\n",
    "            clear_output()\n",
    "        else:\n",
    "            position = int(position)\n",
    "            if symbol_list[position-1] == \"\":\n",
    "                symbol_list.pop(position-1)\n",
    "                symbol_list.insert(position-1, choice)\n",
    "                count += 1\n",
    "                #clear_output\n",
    "                #board()\n",
    "                \n",
    "                # for loop for check the rows of the board\n",
    "                for i in range(0,3,3):\n",
    "                    if symbol_list[i] == choice and symbol_list[i+1] == choice and symbol_list[i+2] == choice:\n",
    "                        game = False\n",
    "                \n",
    "                # for loop for check the columns of the board\n",
    "                for i in range(0,3):\n",
    "                    if symbol_list[i] == choice and symbol_list[i+3] == choice and symbol_list[i+6] == choice:\n",
    "                        game = False\n",
    "                \n",
    "                # check the diagonals\n",
    "                if symbol_list[0] == choice and symbol_list[4] == choice and symbol_list[8] == choice:\n",
    "                    game = False\n",
    "                elif symbol_list[2] == choice and symbol_list[4] == choice and symbol_list[6] == choice:\n",
    "                    game = False\n",
    "                \n",
    "                if choice == \"X\":\n",
    "                    choice = \"O\"\n",
    "                else:\n",
    "                    choice = \"X\"\n",
    "            else:\n",
    "                clear_output()\n",
    "                print(\"Position already taken\")\n",
    "                continue\n",
    "        \n",
    "        if not game:\n",
    "            if choice == \"X\":\n",
    "                clear_output()\n",
    "                print(\"Player1 win the game\")\n",
    "                board()\n",
    "                break\n",
    "            else:\n",
    "                clear_output()\n",
    "                print(\"Player2 win the game\")\n",
    "                board()\n",
    "                break\n",
    "        elif count == 9:\n",
    "            print(\"The game finished in draw\")\n",
    "            board()\n",
    "            break\n",
    "            \n",
    "        clear_output()\n",
    "        board()\n"
   ]
  },
  {
   "cell_type": "code",
   "execution_count": null,
   "metadata": {},
   "outputs": [
    {
     "name": "stdout",
     "output_type": "stream",
     "text": [
      "Welcome to Tic Tac Toe!\n"
     ]
    }
   ],
   "source": [
    "choice = game_choice()\n",
    "game_position(choice)"
   ]
  },
  {
   "cell_type": "code",
   "execution_count": null,
   "metadata": {},
   "outputs": [],
   "source": []
  }
 ],
 "metadata": {
  "kernelspec": {
   "display_name": "Python 3",
   "language": "python",
   "name": "python3"
  },
  "language_info": {
   "codemirror_mode": {
    "name": "ipython",
    "version": 3
   },
   "file_extension": ".py",
   "mimetype": "text/x-python",
   "name": "python",
   "nbconvert_exporter": "python",
   "pygments_lexer": "ipython3",
   "version": "3.7.6"
  }
 },
 "nbformat": 4,
 "nbformat_minor": 1
}
